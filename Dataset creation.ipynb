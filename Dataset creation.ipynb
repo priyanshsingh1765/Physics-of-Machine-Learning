{
 "cells": [
  {
   "cell_type": "code",
   "execution_count": 71,
   "metadata": {},
   "outputs": [],
   "source": [
    "import random \n",
    "import pandas as pd"
   ]
  },
  {
   "cell_type": "code",
   "execution_count": 68,
   "metadata": {},
   "outputs": [],
   "source": [
    "def generate_random_binary_string(size):\n",
    "    binary_string = random.choice('01')  # Ensure the first character is random\n",
    "    binary_string += ''.join(random.choice('01') for _ in range(size - 1))  # Generate remaining characters\n",
    "    return binary_string\n",
    "\n",
    "def generate_dataset(size, dim):\n",
    "    X = []\n",
    "    y = []\n",
    "    for i in range(size):\n",
    "        X.append(generate_random_binary_string(dim))\n",
    "        y.append((int(X[i][0]) or int(X[i][1])) and (int(X[i][2]) or int(X[i][3])))\n",
    "    \n",
    "    df = pd.\n",
    "    return \n",
    "        "
   ]
  },
  {
   "cell_type": "code",
   "execution_count": 69,
   "metadata": {},
   "outputs": [
    {
     "ename": "AttributeError",
     "evalue": "module 'pandas' has no attribute 'Dataframe'",
     "output_type": "error",
     "traceback": [
      "\u001b[1;31m---------------------------------------------------------------------------\u001b[0m",
      "\u001b[1;31mAttributeError\u001b[0m                            Traceback (most recent call last)",
      "Cell \u001b[1;32mIn[69], line 1\u001b[0m\n\u001b[1;32m----> 1\u001b[0m \u001b[43mgenerate_dataset\u001b[49m\u001b[43m(\u001b[49m\u001b[38;5;241;43m100\u001b[39;49m\u001b[43m,\u001b[49m\u001b[43m \u001b[49m\u001b[38;5;241;43m15\u001b[39;49m\u001b[43m)\u001b[49m\n",
      "Cell \u001b[1;32mIn[68], line 13\u001b[0m, in \u001b[0;36mgenerate_dataset\u001b[1;34m(size, dim)\u001b[0m\n\u001b[0;32m     10\u001b[0m     X\u001b[38;5;241m.\u001b[39mappend(generate_random_binary_string(dim))\n\u001b[0;32m     11\u001b[0m     y\u001b[38;5;241m.\u001b[39mappend((\u001b[38;5;28mint\u001b[39m(X[i][\u001b[38;5;241m0\u001b[39m]) \u001b[38;5;129;01mor\u001b[39;00m \u001b[38;5;28mint\u001b[39m(X[i][\u001b[38;5;241m1\u001b[39m])) \u001b[38;5;129;01mand\u001b[39;00m (\u001b[38;5;28mint\u001b[39m(X[i][\u001b[38;5;241m2\u001b[39m]) \u001b[38;5;129;01mor\u001b[39;00m \u001b[38;5;28mint\u001b[39m(X[i][\u001b[38;5;241m3\u001b[39m])))\n\u001b[1;32m---> 13\u001b[0m df \u001b[38;5;241m=\u001b[39m \u001b[43mpd\u001b[49m\u001b[38;5;241;43m.\u001b[39;49m\u001b[43mDataframe\u001b[49m({\u001b[38;5;124m'\u001b[39m\u001b[38;5;124mX\u001b[39m\u001b[38;5;124m'\u001b[39m: X, \u001b[38;5;124m'\u001b[39m\u001b[38;5;124my\u001b[39m\u001b[38;5;124m'\u001b[39m: y})\n\u001b[0;32m     14\u001b[0m \u001b[38;5;28;01mreturn\u001b[39;00m\n",
      "\u001b[1;31mAttributeError\u001b[0m: module 'pandas' has no attribute 'Dataframe'"
     ]
    }
   ],
   "source": [
    "generate_dataset(100, 15)"
   ]
  },
  {
   "cell_type": "code",
   "execution_count": 54,
   "metadata": {},
   "outputs": [
    {
     "data": {
      "text/plain": [
       "1"
      ]
     },
     "execution_count": 54,
     "metadata": {},
     "output_type": "execute_result"
    }
   ],
   "source": []
  },
  {
   "cell_type": "code",
   "execution_count": null,
   "metadata": {},
   "outputs": [],
   "source": []
  }
 ],
 "metadata": {
  "kernelspec": {
   "display_name": "Python 3",
   "language": "python",
   "name": "python3"
  },
  "language_info": {
   "codemirror_mode": {
    "name": "ipython",
    "version": 3
   },
   "file_extension": ".py",
   "mimetype": "text/x-python",
   "name": "python",
   "nbconvert_exporter": "python",
   "pygments_lexer": "ipython3",
   "version": "3.12.2"
  }
 },
 "nbformat": 4,
 "nbformat_minor": 2
}
